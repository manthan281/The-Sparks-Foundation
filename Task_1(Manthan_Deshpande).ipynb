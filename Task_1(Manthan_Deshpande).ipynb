{
  "nbformat": 4,
  "nbformat_minor": 0,
  "metadata": {
    "colab": {
      "name": "Task_1(Tanmay Belsare).ipynb",
      "provenance": [],
      "collapsed_sections": []
    },
    "kernelspec": {
      "display_name": "Python 3",
      "language": "python",
      "name": "python3"
    },
    "language_info": {
      "codemirror_mode": {
        "name": "ipython",
        "version": 3
      },
      "file_extension": ".py",
      "mimetype": "text/x-python",
      "name": "python",
      "nbconvert_exporter": "python",
      "pygments_lexer": "ipython3",
      "version": "3.9.1"
    }
  },
  "cells": [
    {
      "cell_type": "markdown",
      "metadata": {
        "id": "y_CVTZxvtZJH"
      },
      "source": [
        "<font size=\"6\">**TSF - Task 1**</font>\n",
        "\n",
        "\n",
        "\n",
        "\n",
        "<font size=\"5\">**Manthan Deshpande**</font>"
      ]
    },
    {
      "cell_type": "markdown",
      "metadata": {
        "id": "FfeDd8ODt3rZ"
      },
      "source": [
        "<font size=\"3\">**\"Prediction using Supervised ML\"**\n",
        "\n",
        "Predict the percentage of an student based on the number of study hours</font>"
      ]
    },
    {
      "cell_type": "markdown",
      "metadata": {
        "id": "yOExxuxAvtlO"
      },
      "source": [
        "**Linear Regression:** Linear Regression is a supervised machine learning algorithm where the predicted output is continuous and has a constant slope. It’s used to predict values within a continuous range, rather than trying to classify them into categories."
      ]
    },
    {
      "cell_type": "markdown",
      "metadata": {
        "id": "cYD0HGi5xCGN"
      },
      "source": [
        "**Simple Linear Regression:** Simple linear regression uses traditional slope-intercept form, where *m* and *b* are the variables our algorithm will try to “learn” to produce the most accurate predictions. *x* represents our input data and *y* represents our prediction.<br>\n",
        "*y = mx + b*\n",
        "\n",
        "---\n",
        "\n"
      ]
    },
    {
      "cell_type": "markdown",
      "metadata": {
        "id": "Y3617GgexvAF"
      },
      "source": [
        "Importing the required libraries\n"
      ]
    },
    {
      "cell_type": "code",
      "metadata": {
        "id": "6GygjKQcsQmE"
      },
      "source": [
        "import pandas as pd\n",
        "import numpy as np  \n",
        "import matplotlib.pyplot as plt"
      ],
      "execution_count": null,
      "outputs": []
    },
    {
      "cell_type": "markdown",
      "metadata": {
        "id": "kntlAD9y074p"
      },
      "source": [
        "Reading and importing the dataset"
      ]
    },
    {
      "cell_type": "code",
      "metadata": {
        "colab": {
          "base_uri": "https://localhost:8080/",
          "height": 376
        },
        "id": "HlLRrkWz0fTI",
        "outputId": "920b0d35-4bcf-4f25-ecc7-1038fbc69a07"
      },
      "source": [
        "df=pd.read_csv(\"http://bit.ly/w-data\")\n",
        "print(\"Data imported successfully\")\n",
        "df.head(10)"
      ],
      "execution_count": null,
      "outputs": [
        {
          "output_type": "stream",
          "text": [
            "Data imported successfully\n"
          ],
          "name": "stdout"
        },
        {
          "output_type": "execute_result",
          "data": {
            "text/html": [
              "<div>\n",
              "<style scoped>\n",
              "    .dataframe tbody tr th:only-of-type {\n",
              "        vertical-align: middle;\n",
              "    }\n",
              "\n",
              "    .dataframe tbody tr th {\n",
              "        vertical-align: top;\n",
              "    }\n",
              "\n",
              "    .dataframe thead th {\n",
              "        text-align: right;\n",
              "    }\n",
              "</style>\n",
              "<table border=\"1\" class=\"dataframe\">\n",
              "  <thead>\n",
              "    <tr style=\"text-align: right;\">\n",
              "      <th></th>\n",
              "      <th>Hours</th>\n",
              "      <th>Scores</th>\n",
              "    </tr>\n",
              "  </thead>\n",
              "  <tbody>\n",
              "    <tr>\n",
              "      <th>0</th>\n",
              "      <td>2.5</td>\n",
              "      <td>21</td>\n",
              "    </tr>\n",
              "    <tr>\n",
              "      <th>1</th>\n",
              "      <td>5.1</td>\n",
              "      <td>47</td>\n",
              "    </tr>\n",
              "    <tr>\n",
              "      <th>2</th>\n",
              "      <td>3.2</td>\n",
              "      <td>27</td>\n",
              "    </tr>\n",
              "    <tr>\n",
              "      <th>3</th>\n",
              "      <td>8.5</td>\n",
              "      <td>75</td>\n",
              "    </tr>\n",
              "    <tr>\n",
              "      <th>4</th>\n",
              "      <td>3.5</td>\n",
              "      <td>30</td>\n",
              "    </tr>\n",
              "    <tr>\n",
              "      <th>5</th>\n",
              "      <td>1.5</td>\n",
              "      <td>20</td>\n",
              "    </tr>\n",
              "    <tr>\n",
              "      <th>6</th>\n",
              "      <td>9.2</td>\n",
              "      <td>88</td>\n",
              "    </tr>\n",
              "    <tr>\n",
              "      <th>7</th>\n",
              "      <td>5.5</td>\n",
              "      <td>60</td>\n",
              "    </tr>\n",
              "    <tr>\n",
              "      <th>8</th>\n",
              "      <td>8.3</td>\n",
              "      <td>81</td>\n",
              "    </tr>\n",
              "    <tr>\n",
              "      <th>9</th>\n",
              "      <td>2.7</td>\n",
              "      <td>25</td>\n",
              "    </tr>\n",
              "  </tbody>\n",
              "</table>\n",
              "</div>"
            ],
            "text/plain": [
              "   Hours  Scores\n",
              "0    2.5      21\n",
              "1    5.1      47\n",
              "2    3.2      27\n",
              "3    8.5      75\n",
              "4    3.5      30\n",
              "5    1.5      20\n",
              "6    9.2      88\n",
              "7    5.5      60\n",
              "8    8.3      81\n",
              "9    2.7      25"
            ]
          },
          "metadata": {
            "tags": []
          },
          "execution_count": 2
        }
      ]
    },
    {
      "cell_type": "markdown",
      "metadata": {
        "id": "XpOw5jbO1xWn"
      },
      "source": [
        "Plotting the graph to analyse the data"
      ]
    },
    {
      "cell_type": "code",
      "metadata": {
        "colab": {
          "base_uri": "https://localhost:8080/",
          "height": 295
        },
        "id": "EOuXx2Jg39Ew",
        "outputId": "68cce6ca-28df-4a0e-f48c-99538edce320"
      },
      "source": [
        "df.plot(x=\"Hours\", y=\"Scores\", style=\"o\")\n",
        "plt.xlabel(\"Hours\")\n",
        "plt.ylabel(\"Percentage Score\")\n",
        "plt.title(\"Hours vs Percentage score\")\n",
        "plt.grid(\"True\",color=\"#99ccff\",linestyle=\"-.\")"
      ],
      "execution_count": null,
      "outputs": [
        {
          "output_type": "display_data",
          "data": {
            "image/png": "[encoded data removed]",
            "text/plain": [
              "<Figure size 432x288 with 1 Axes>"
            ]
          },
          "metadata": {
            "tags": [],
            "needs_background": "light"
          }
        }
      ]
    },
    {
      "cell_type": "markdown",
      "metadata": {
        "id": "ubLkZwiI6rIJ"
      },
      "source": [
        "from the above graph, it is clear that there is a positive relation between the number of hours studied and the percentage of score."
      ]
    },
    {
      "cell_type": "markdown",
      "metadata": {
        "id": "qDGQ7Ew_7sCE"
      },
      "source": [
        "**Preparing the Data**"
      ]
    },
    {
      "cell_type": "markdown",
      "metadata": {
        "id": "Z2hDwhCt71Nk"
      },
      "source": [
        "Sorting the dependent and the independent variables of the dataset"
      ]
    },
    {
      "cell_type": "code",
      "metadata": {
        "id": "tXKEf8e16Cg3"
      },
      "source": [
        "X=df.iloc[:, :-1].values\n",
        "y=df.iloc[:, 1].values"
      ],
      "execution_count": null,
      "outputs": []
    },
    {
      "cell_type": "markdown",
      "metadata": {
        "id": "1M0MWZrA9Ii3"
      },
      "source": [
        "Splitting the data into 2 parts - 'train set' and 'test set'"
      ]
    },
    {
      "cell_type": "code",
      "metadata": {
        "id": "EGrWNg4s9Ymp"
      },
      "source": [
        "from sklearn.model_selection import train_test_split  \n",
        "X_train, X_test, y_train, y_test = train_test_split(X, y, test_size=0.25, random_state=1)"
      ],
      "execution_count": null,
      "outputs": []
    },
    {
      "cell_type": "markdown",
      "metadata": {
        "id": "-WVvzRBK-xVb"
      },
      "source": [
        "**Fitting the Linear Regression Model**"
      ]
    },
    {
      "cell_type": "code",
      "metadata": {
        "id": "OvlmNesf-6z8"
      },
      "source": [
        "from sklearn.linear_model import LinearRegression\n",
        "reg=LinearRegression().fit(X_train,y_train)"
      ],
      "execution_count": null,
      "outputs": []
    },
    {
      "cell_type": "markdown",
      "metadata": {
        "id": "4iTa_pc_S4Bx"
      },
      "source": [
        "Plotting the regression line and test data"
      ]
    },
    {
      "cell_type": "code",
      "metadata": {
        "colab": {
          "base_uri": "https://localhost:8080/",
          "height": 265
        },
        "id": "de3ERDv8TBHX",
        "outputId": "e6625fe0-8546-4839-cfb7-2bd8b2118b8c"
      },
      "source": [
        "line = reg.coef_*X+reg.intercept_\n",
        "plt.scatter(X, y)\n",
        "plt.plot(X, line);\n",
        "plt.show()"
      ],
      "execution_count": null,
      "outputs": [
        {
          "output_type": "display_data",
          "data": {
            "image/png": "[encoded data removed]",
            "text/plain": [
              "<Figure size 432x288 with 1 Axes>"
            ]
          },
          "metadata": {
            "tags": [],
            "needs_background": "light"
          }
        }
      ]
    },
    {
      "cell_type": "markdown",
      "metadata": {
        "id": "KG3sg37PVIb1"
      },
      "source": [
        "**Making Predictions**"
      ]
    },
    {
      "cell_type": "markdown",
      "metadata": {
        "id": "IWYRN4g9VP-5"
      },
      "source": [
        "Predicting the scores"
      ]
    },
    {
      "cell_type": "code",
      "metadata": {
        "id": "5XlbmntQVfBN"
      },
      "source": [
        "y_pred = reg.predict(X_test)"
      ],
      "execution_count": null,
      "outputs": []
    },
    {
      "cell_type": "markdown",
      "metadata": {
        "id": "XzKSOfeXV7En"
      },
      "source": [
        "Comparing Actual vs Predicted scores"
      ]
    },
    {
      "cell_type": "code",
      "metadata": {
        "colab": {
          "base_uri": "https://localhost:8080/"
        },
        "id": "uw9K0rw2V3lJ",
        "outputId": "0d04a5be-d0cb-4fb5-f68e-e1b96e868937"
      },
      "source": [
        "df1 = pd.DataFrame({'Actual': y_test, 'Predicted': y_pred})\n",
        "print(df1)"
      ],
      "execution_count": null,
      "outputs": [
        {
          "output_type": "stream",
          "text": [
            "   Actual  Predicted\n",
            "0      17  10.151901\n",
            "1      42  32.739761\n",
            "2      24  18.365669\n",
            "3      75  86.129249\n",
            "4      54  48.140575\n",
            "5      85  77.915481\n",
            "6      67  61.487947\n"
          ],
          "name": "stdout"
        }
      ]
    },
    {
      "cell_type": "markdown",
      "metadata": {
        "id": "AOOWCPLPWb7B"
      },
      "source": [
        "Predicting score for given 9.25 hour/day"
      ]
    },
    {
      "cell_type": "code",
      "metadata": {
        "colab": {
          "base_uri": "https://localhost:8080/"
        },
        "id": "AXneTLGcVtk_",
        "outputId": "51799516-50b3-4e31-8701-1602700ad69f"
      },
      "source": [
        "new_pred = reg.predict([[9.25]])\n",
        "print(\"Number of Hours: 9.25\")\n",
        "print(\"Predicted Score: \",new_pred)"
      ],
      "execution_count": null,
      "outputs": [
        {
          "output_type": "stream",
          "text": [
            "Number of Hours: 9.25\n",
            "Predicted Score:  [93.82965552]\n"
          ],
          "name": "stdout"
        }
      ]
    },
    {
      "cell_type": "markdown",
      "metadata": {
        "id": "IoCVKwXkn00u"
      },
      "source": [
        "**Evaluating the performance of Model**"
      ]
    },
    {
      "cell_type": "markdown",
      "metadata": {
        "id": "YLE6OElTS2-t"
      },
      "source": [
        "Calculating the MSE of the model"
      ]
    },
    {
      "cell_type": "code",
      "metadata": {
        "colab": {
          "base_uri": "https://localhost:8080/"
        },
        "id": "fZdODiornwDl",
        "outputId": "3f7dc270-fb3c-45c6-c899-356d9e3107e7"
      },
      "source": [
        "np.mean((reg.predict(X_test) - y_test)**2)"
      ],
      "execution_count": null,
      "outputs": [
        {
          "output_type": "execute_result",
          "data": {
            "text/plain": [
              "57.59433403253168"
            ]
          },
          "metadata": {
            "tags": []
          },
          "execution_count": 11
        }
      ]
    }
  ]
}