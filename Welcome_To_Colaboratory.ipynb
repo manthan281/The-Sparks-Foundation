{
  "nbformat": 4,
  "nbformat_minor": 0,
  "metadata": {
    "colab": {
      "name": "Welcome To Colaboratory",
      "provenance": [],
      "collapsed_sections": [],
      "include_colab_link": true
    },
    "kernelspec": {
      "display_name": "Python 3",
      "name": "python3"
    }
  },
  "cells": [
    {
      "cell_type": "markdown",
      "metadata": {
        "id": "view-in-github",
        "colab_type": "text"
      },
      "source": [
        "<a href=\"https://colab.research.google.com/github/manthan281/The-Sparks-Foundation/blob/main/Welcome_To_Colaboratory.ipynb\" target=\"_parent\"><img src=\"https://colab.research.google.com/assets/colab-badge.svg\" alt=\"Open In Colab\"/></a>"
      ]
    },
    {
      "cell_type": "code",
      "metadata": {
        "id": "AGvCpsD7_UNM",
        "outputId": "602cf00c-b7d2-4c80-a33c-805766fc0b31",
        "colab": {
          "base_uri": "https://localhost:8080/"
        }
      },
      "source": [
        "\n",
        "a=float(10)\n",
        "b=int(round(20.5))\n",
        "c=float(30)\n",
        "d=int(round(40.0))\n",
        "print(a)\n",
        "print(b)\n",
        "print(c)\n",
        "print(d)\n"
      ],
      "execution_count": 37,
      "outputs": [
        {
          "output_type": "stream",
          "name": "stdout",
          "text": [
            "10.0\n",
            "20\n",
            "30.0\n",
            "40\n"
          ]
        }
      ]
    },
    {
      "cell_type": "code",
      "metadata": {
        "id": "G3P8uMAUApT9",
        "outputId": "06fecd5f-ece7-4f17-cb6e-b1bf995bead4",
        "colab": {
          "base_uri": "https://localhost:8080/"
        }
      },
      "source": [
        "string1=\"python is powerful \"\n",
        "string2=\" elegant language and suitable for data analysis\"\n",
        "print(string1+\"&\"+string2)"
      ],
      "execution_count": 9,
      "outputs": [
        {
          "output_type": "stream",
          "name": "stdout",
          "text": [
            "python is powerful & elegant language and suitable for data analysis\n"
          ]
        }
      ]
    },
    {
      "cell_type": "code",
      "metadata": {
        "id": "SDXG4Wu7Bp_V",
        "outputId": "fdc120f7-59a0-4bc8-c2fd-eec7214d1cf6",
        "colab": {
          "base_uri": "https://localhost:8080/"
        }
      },
      "source": [
        "name=\"python\"\n",
        "print(len(name))"
      ],
      "execution_count": 10,
      "outputs": [
        {
          "output_type": "stream",
          "name": "stdout",
          "text": [
            "6\n"
          ]
        }
      ]
    },
    {
      "cell_type": "code",
      "metadata": {
        "id": "4J9_eP9_B0bl",
        "outputId": "25a820a2-5089-48f4-a1a3-d43cac2a3090",
        "colab": {
          "base_uri": "https://localhost:8080/"
        }
      },
      "source": [
        "string1=\"No Parking Zone\"\n",
        "print(len(string1))\n",
        "\n",
        "print(len(\"No\"))\n",
        "print(len(\"Parking\"))\n",
        "print(len(\"Zone\"))\n",
        "print(len(\"No\")+len(\"Parking\")+len(\"Zone\"))                "
      ],
      "execution_count": 27,
      "outputs": [
        {
          "output_type": "stream",
          "name": "stdout",
          "text": [
            "15\n",
            "2\n",
            "7\n",
            "4\n",
            "13\n"
          ]
        }
      ]
    },
    {
      "cell_type": "code",
      "metadata": {
        "id": "6q0algG4Gsp5",
        "outputId": "77bb1726-369a-4d2e-c2da-a7a933836880",
        "colab": {
          "base_uri": "https://localhost:8080/"
        }
      },
      "source": [
        "string1=\"Are you working as a Python programmer?\"\n",
        "count=0\n",
        "for vowel in string1:\n",
        "  if vowel=='a' or vowel=='e' or vowel=='i' or vowel=='o' or vowel=='u':\n",
        "     count+=1\n",
        "print(count)"
      ],
      "execution_count": 35,
      "outputs": [
        {
          "output_type": "stream",
          "name": "stdout",
          "text": [
            "11\n"
          ]
        }
      ]
    },
    {
      "cell_type": "code",
      "metadata": {
        "id": "evRmZk-Z5cBZ"
      },
      "source": [
        ""
      ],
      "execution_count": null,
      "outputs": []
    }
  ]
}