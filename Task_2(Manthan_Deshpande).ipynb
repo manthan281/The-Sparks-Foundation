{
  "nbformat": 4,
  "nbformat_minor": 5,
  "metadata": {
    "kernelspec": {
      "display_name": "Python 3",
      "language": "python",
      "name": "python3"
    },
    "language_info": {
      "codemirror_mode": {
        "name": "ipython",
        "version": 3
      },
      "file_extension": ".py",
      "mimetype": "text/x-python",
      "name": "python",
      "nbconvert_exporter": "python",
      "pygments_lexer": "ipython3",
      "version": "3.9.1"
    },
    "colab": {
      "name": "Task_2(Tanmay Belsare).ipynb",
      "provenance": []
    }
  },
  "cells": [
    {
      "cell_type": "markdown",
      "metadata": {
        "id": "separated-california"
      },
      "source": [
        "<font size=\"6\">**TSF - Task 2**</font>\n",
        "\n",
        "\n",
        "\n",
        "\n",
        "<font size=\"5\">**Manthan Deshpande**</font>"
      ],
      "id": "separated-california"
    },
    {
      "cell_type": "markdown",
      "metadata": {
        "id": "involved-holly"
      },
      "source": [
        "<font size=\"3\">**\"Prediction using Unsupervised ML\"**\n",
        "\n",
        "From the iris dataset predict the optimum number of clusters and representing it visually</font>"
      ],
      "id": "involved-holly"
    },
    {
      "cell_type": "markdown",
      "metadata": {
        "id": "regulation-context"
      },
      "source": [
        "Importing necessary libraries"
      ],
      "id": "regulation-context"
    },
    {
      "cell_type": "code",
      "metadata": {
        "id": "vital-python"
      },
      "source": [
        "import numpy as np\n",
        "import matplotlib.pyplot as plt\n",
        "import pandas as pd"
      ],
      "id": "vital-python",
      "execution_count": null,
      "outputs": []
    },
    {
      "cell_type": "markdown",
      "metadata": {
        "id": "committed-belle"
      },
      "source": [
        "Reading the dataset"
      ],
      "id": "committed-belle"
    },
    {
      "cell_type": "code",
      "metadata": {
        "id": "extraordinary-mount",
        "outputId": "34136d56-0cce-4af9-fbf0-8523fea42f45"
      },
      "source": [
        "iris = pd.read_csv(\"E:/Iris.csv\") #location on my computer\n",
        "iris.head() #having a look at first five rows"
      ],
      "id": "extraordinary-mount",
      "execution_count": null,
      "outputs": [
        {
          "output_type": "execute_result",
          "data": {
            "text/html": [
              "<div>\n",
              "<style scoped>\n",
              "    .dataframe tbody tr th:only-of-type {\n",
              "        vertical-align: middle;\n",
              "    }\n",
              "\n",
              "    .dataframe tbody tr th {\n",
              "        vertical-align: top;\n",
              "    }\n",
              "\n",
              "    .dataframe thead th {\n",
              "        text-align: right;\n",
              "    }\n",
              "</style>\n",
              "<table border=\"1\" class=\"dataframe\">\n",
              "  <thead>\n",
              "    <tr style=\"text-align: right;\">\n",
              "      <th></th>\n",
              "      <th>Id</th>\n",
              "      <th>SepalLengthCm</th>\n",
              "      <th>SepalWidthCm</th>\n",
              "      <th>PetalLengthCm</th>\n",
              "      <th>PetalWidthCm</th>\n",
              "      <th>Species</th>\n",
              "    </tr>\n",
              "  </thead>\n",
              "  <tbody>\n",
              "    <tr>\n",
              "      <th>0</th>\n",
              "      <td>1</td>\n",
              "      <td>5.1</td>\n",
              "      <td>3.5</td>\n",
              "      <td>1.4</td>\n",
              "      <td>0.2</td>\n",
              "      <td>Iris-setosa</td>\n",
              "    </tr>\n",
              "    <tr>\n",
              "      <th>1</th>\n",
              "      <td>2</td>\n",
              "      <td>4.9</td>\n",
              "      <td>3.0</td>\n",
              "      <td>1.4</td>\n",
              "      <td>0.2</td>\n",
              "      <td>Iris-setosa</td>\n",
              "    </tr>\n",
              "    <tr>\n",
              "      <th>2</th>\n",
              "      <td>3</td>\n",
              "      <td>4.7</td>\n",
              "      <td>3.2</td>\n",
              "      <td>1.3</td>\n",
              "      <td>0.2</td>\n",
              "      <td>Iris-setosa</td>\n",
              "    </tr>\n",
              "    <tr>\n",
              "      <th>3</th>\n",
              "      <td>4</td>\n",
              "      <td>4.6</td>\n",
              "      <td>3.1</td>\n",
              "      <td>1.5</td>\n",
              "      <td>0.2</td>\n",
              "      <td>Iris-setosa</td>\n",
              "    </tr>\n",
              "    <tr>\n",
              "      <th>4</th>\n",
              "      <td>5</td>\n",
              "      <td>5.0</td>\n",
              "      <td>3.6</td>\n",
              "      <td>1.4</td>\n",
              "      <td>0.2</td>\n",
              "      <td>Iris-setosa</td>\n",
              "    </tr>\n",
              "  </tbody>\n",
              "</table>\n",
              "</div>"
            ],
            "text/plain": [
              "   Id  SepalLengthCm  SepalWidthCm  PetalLengthCm  PetalWidthCm      Species\n",
              "0   1            5.1           3.5            1.4           0.2  Iris-setosa\n",
              "1   2            4.9           3.0            1.4           0.2  Iris-setosa\n",
              "2   3            4.7           3.2            1.3           0.2  Iris-setosa\n",
              "3   4            4.6           3.1            1.5           0.2  Iris-setosa\n",
              "4   5            5.0           3.6            1.4           0.2  Iris-setosa"
            ]
          },
          "metadata": {
            "tags": []
          },
          "execution_count": 7
        }
      ]
    },
    {
      "cell_type": "markdown",
      "metadata": {
        "id": "about-great"
      },
      "source": [
        "To find optimum number of clusters using elbow method"
      ],
      "id": "about-great"
    },
    {
      "cell_type": "code",
      "metadata": {
        "id": "innovative-elephant",
        "outputId": "378e6a7e-8db1-4fcc-d472-0a7f632d2eb3"
      },
      "source": [
        "x = iris.iloc[:, [1, 2, 3, 4]].values\n",
        "\n",
        "from sklearn.cluster import KMeans\n",
        "wcss = []\n",
        "\n",
        "for i in range(1, 11):\n",
        "    kmeans = KMeans(n_clusters = i, init = 'k-means++', \n",
        "                    max_iter = 300, n_init = 10, random_state = 0)\n",
        "    kmeans.fit(x)\n",
        "    wcss.append(kmeans.inertia_)\n",
        "    \n",
        "#Using elbow method to find number of clusters\n",
        "plt.plot(range(1, 11), wcss)\n",
        "plt.title('The elbow method')\n",
        "plt.xlabel('Number of clusters')\n",
        "plt.ylabel('WCSS') # Within cluster sum of squares\n",
        "plt.show()"
      ],
      "id": "innovative-elephant",
      "execution_count": null,
      "outputs": [
        {
          "output_type": "display_data",
          "data": {
            "image/png": "[encoded data removed]",
            "text/plain": [
              "<Figure size 432x288 with 1 Axes>"
            ]
          },
          "metadata": {
            "tags": [],
            "needs_background": "light"
          }
        }
      ]
    },
    {
      "cell_type": "markdown",
      "metadata": {
        "id": "numerical-chapel"
      },
      "source": [
        "X-axis corresponds to Number of clusters and Y-axis corresponds to WCSS. Number of clusters should be chosen such that the Within Cluster Sum of squares doesn't decrease significantly with every iteration\n",
        "\n",
        "Here we can see, if we choose number of clusters as 3, the WCSS dosen't decrease significantly in the next iteration. Therefore, It is decided to take number of clusters as 3"
      ],
      "id": "numerical-chapel"
    },
    {
      "cell_type": "markdown",
      "metadata": {
        "id": "agreed-access"
      },
      "source": [
        "Applying kmeans to the dataset"
      ],
      "id": "agreed-access"
    },
    {
      "cell_type": "code",
      "metadata": {
        "id": "subsequent-journal"
      },
      "source": [
        "kmeans = KMeans(n_clusters = 3, init = 'k-means++',\n",
        "                max_iter = 300, n_init = 10, random_state = 0)\n",
        "y_kmeans = kmeans.fit_predict(x)"
      ],
      "id": "subsequent-journal",
      "execution_count": null,
      "outputs": []
    },
    {
      "cell_type": "markdown",
      "metadata": {
        "id": "played-anaheim"
      },
      "source": [
        "Representing the clusters and their centroids visually"
      ],
      "id": "played-anaheim"
    },
    {
      "cell_type": "code",
      "metadata": {
        "id": "straight-excitement",
        "outputId": "6a66e4f7-f63a-47bf-9c40-2b4accfa31b6"
      },
      "source": [
        "#Visualizing the clusters on Sepal Width vs Petal Length\n",
        "#Cluster centroids are represented by orange colour\n",
        "plt.scatter(x[y_kmeans == 0, 1], x[y_kmeans == 0, 2], \n",
        "            s = 100, c = 'magenta', label = 'Iris-setosa')\n",
        "plt.scatter(x[y_kmeans == 1, 1], x[y_kmeans == 1, 2], \n",
        "            s = 100, c = 'purple', label = 'Iris-versicolour')\n",
        "plt.scatter(x[y_kmeans == 2, 1], x[y_kmeans == 2, 2],\n",
        "            s = 100, c = 'darkblue', label = 'Iris-virginica')\n",
        "\n",
        "plt.scatter(kmeans.cluster_centers_[:, 1], kmeans.cluster_centers_[:,2], \n",
        "            s = 100, c = 'orange', label = 'Centroids')\n",
        "plt.ylabel(\"Petal Length\")\n",
        "plt.xlabel(\"Sepal Width\")\n",
        "plt.legend()"
      ],
      "id": "straight-excitement",
      "execution_count": null,
      "outputs": [
        {
          "output_type": "execute_result",
          "data": {
            "text/plain": [
              "<matplotlib.legend.Legend at 0x2db6588da60>"
            ]
          },
          "metadata": {
            "tags": []
          },
          "execution_count": 10
        },
        {
          "output_type": "display_data",
          "data": {
            "image/png": "[encoded data removed]",
            "text/plain": [
              "<Figure size 432x288 with 1 Axes>"
            ]
          },
          "metadata": {
            "tags": [],
            "needs_background": "light"
          }
        }
      ]
    }
  ]
}